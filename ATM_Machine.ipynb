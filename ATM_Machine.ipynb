class Atm:
    #contsructor
    
    def __init__(self):
        self.pin=''
        self.balance=0
        self.menu()

    def menu(self):
        user_input=int(input("""
                            Welcome to Krishna's Bank
                            1.Press 1 to create pin
                            2. Press 2 to chnage pin
                            3. Press 3 to check balance
                            4. Press 4 to withdraw
                            5. Press 5 or any key to exit
                             
                           """ ))
        if user_input==1:
            self.createPin()
        elif user_input==2:
            self.changePin()
        elif user_input==3:
            self.checkBalance()
        elif user_input==4:
            self.withDraw()
        else:
            
            print("Have a nice day ahead!")
            exit()
        
    def createPin(self):
           
            
            user_pin=input("Enter your pin")
            if len(user_pin)<4:
                print("Pin must be greater than 4 digits")
                self.createPin()
                    
            else:
                self.pin=user_pin
                user_balance=int(input('Enter balance:'))
                self.balance=user_balance
                print('Pin created sucessfully')
                self.menu()
                
    def changePin(self):
            if self.pin==input("Enter current pin") :
                self.pin=input("Enter new pin")
                print("Pin changed sucessfully")
            
            else:
                print("incorrect pin")
                self.menu()

    def checkBalance(self):
            user_pin=input("enter your pin:")
            if self.pin==user_pin:
                print("Your current balance is:",self.balance)
                self.menu()
            else:
                print("Incorrect Pin")
                self.menu()
            
            
    def withDraw(self):
            user_pin=input("enter your pin")
            if self.pin==user_pin:
                amount=int(input("Enter amount to be withdrawn"))
                if amount>=self.balance:
                    print("Insufficient balance.")
                else:
                    self.balance-=amount
                    print("Withdrawn sucessfully. Your current remaining balance is:",self.balance)
            else:
                print("Incorrect Pin")
                self.menu()
Obj=Atm()
