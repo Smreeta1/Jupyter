{
 "cells": [
  {
   "cell_type": "code",
   "execution_count": 1,
   "metadata": {},
   "outputs": [
    {
     "name": "stdout",
     "output_type": "stream",
     "text": [
      "5\n"
     ]
    }
   ],
   "source": [
    "a=2\n",
    "b=3\n",
    "sum=a+b\n",
    "print(sum)"
   ]
  },
  {
   "cell_type": "code",
   "execution_count": 6,
   "metadata": {},
   "outputs": [
    {
     "name": "stdout",
     "output_type": "stream",
     "text": [
      "hello class\n",
      "good moring\n",
      "let's do it\n",
      "code with \"sam\"\n"
     ]
    }
   ],
   "source": [
    "print (\"hello class\")\n",
    "print('good moring')\n",
    "print(\"let's do it\")\n",
    "print('code with \"sam\"')\n"
   ]
  },
  {
   "cell_type": "code",
   "execution_count": 7,
   "metadata": {},
   "outputs": [
    {
     "name": "stdout",
     "output_type": "stream",
     "text": [
      "the sum is 6\n"
     ]
    }
   ],
   "source": [
    "a=3\n",
    "b=3\n",
    "sum=a+b\n",
    "print(f\"the sum is {sum}\")"
   ]
  },
  {
   "cell_type": "code",
   "execution_count": 8,
   "metadata": {},
   "outputs": [
    {
     "name": "stdout",
     "output_type": "stream",
     "text": [
      "the sum is 4\n"
     ]
    }
   ],
   "source": [
    "a=int(input(\"enter a's value\" ))\n",
    "b=int(input(\"enter b's value\" ))\n",
    "\n",
    "sum=a+b\n",
    "print(f\"the sum is {sum}\")"
   ]
  },
  {
   "cell_type": "code",
   "execution_count": 9,
   "metadata": {},
   "outputs": [
    {
     "name": "stdout",
     "output_type": "stream",
     "text": [
      "100\n",
      "16000000000.0\n",
      "(1, 2, 3, 4)\n",
      "[1, 2, 3, 4]\n",
      "True\n",
      "False\n",
      "2.0\n",
      "0\n",
      "{1, 2, 3, 6}\n"
     ]
    }
   ],
   "source": [
    "#integer\n",
    "print(100)\n",
    "100\n",
    "\n",
    "#float\n",
    "print(1.6e10)\n",
    "16000000000.0\n",
    "\n",
    "#tuple\n",
    "print((1,2,3,4))\n",
    "\n",
    "#list\n",
    "print([1,2,3,4])\n",
    "#dictionary\n",
    "\n",
    "\n",
    "#boolean\n",
    "print(True)\n",
    "print(False)\n",
    "\n",
    "#complex\n",
    "a=2+54j\n",
    "print(a.real)\n",
    "print(b.imag)\n",
    "\n",
    "#sets\n",
    "print({1,1,1,1,2,3,6})"
   ]
  },
  {
   "cell_type": "code",
   "execution_count": 10,
   "metadata": {},
   "outputs": [
    {
     "name": "stdout",
     "output_type": "stream",
     "text": [
      "{'name': 'smreeta', 'age': 20, 'weight': 66}\n"
     ]
    },
    {
     "data": {
      "text/plain": [
       "dict"
      ]
     },
     "execution_count": 10,
     "metadata": {},
     "output_type": "execute_result"
    }
   ],
   "source": [
    "#dictionary\n",
    "print({'name':'smreeta','age':20,'weight':66})\n",
    "\n",
    "type({'name':'smreeta','age':20,'weight':66})"
   ]
  },
  {
   "cell_type": "code",
   "execution_count": 11,
   "metadata": {},
   "outputs": [
    {
     "name": "stdout",
     "output_type": "stream",
     "text": [
      "1 2 3 d\n"
     ]
    }
   ],
   "source": [
    "a,b,c,d=1,2,3,'d'\n",
    "print(a,b,c,d)"
   ]
  },
  {
   "cell_type": "code",
   "execution_count": 12,
   "metadata": {},
   "outputs": [
    {
     "name": "stdout",
     "output_type": "stream",
     "text": [
      "4 4 4\n"
     ]
    }
   ],
   "source": [
    "a=v=c=4\n",
    "print(a,c,v)\n"
   ]
  },
  {
   "cell_type": "code",
   "execution_count": 13,
   "metadata": {},
   "outputs": [
    {
     "name": "stdout",
     "output_type": "stream",
     "text": [
      "a is equal to 3\n"
     ]
    }
   ],
   "source": [
    "a=int(input('enter a:'))\n",
    "if a>3:\n",
    "    print(\"a is greater than 3\")\n",
    "    if a>10:\n",
    "        print('a is greater than 10')\n",
    "    else:\n",
    "        print('a is smaller than 10')\n",
    "    print('i am inside loop')\n",
    "elif a==3:\n",
    "    print('a is equal to 3')\n",
    "else:\n",
    "    print(\"a is smnaller than 3\")"
   ]
  },
  {
   "cell_type": "code",
   "execution_count": null,
   "metadata": {},
   "outputs": [],
   "source": []
  }
 ],
 "metadata": {
  "kernelspec": {
   "display_name": "Python 3",
   "language": "python",
   "name": "python3"
  },
  "language_info": {
   "codemirror_mode": {
    "name": "ipython",
    "version": 3
   },
   "file_extension": ".py",
   "mimetype": "text/x-python",
   "name": "python",
   "nbconvert_exporter": "python",
   "pygments_lexer": "ipython3",
   "version": "3.11.3"
  },
  "orig_nbformat": 4
 },
 "nbformat": 4,
 "nbformat_minor": 2
}
